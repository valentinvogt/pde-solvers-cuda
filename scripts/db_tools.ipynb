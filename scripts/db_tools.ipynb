{
 "cells": [
  {
   "cell_type": "code",
   "execution_count": 9,
   "metadata": {},
   "outputs": [],
   "source": [
    "import netCDF4 as nc\n",
    "import numpy as np\n",
    "import matplotlib.pyplot as plt\n",
    "import matplotlib.animation as animation\n",
    "from mpl_toolkits.axes_grid1 import ImageGrid\n",
    "\n",
    "import os\n",
    "import glob\n",
    "import pandas as pd\n",
    "import json"
   ]
  },
  {
   "cell_type": "code",
   "execution_count": 10,
   "metadata": {},
   "outputs": [],
   "source": [
    "def get_db(data_dir):\n",
    "    json_files = glob.glob(os.path.join(data_dir, \"*.json\"))\n",
    "    data_list = []\n",
    "\n",
    "    # Iterate through the JSON files and read them\n",
    "    for file in json_files:\n",
    "        with open(file, 'r') as f:\n",
    "            data = json.load(f)\n",
    "            data_list.append(data)\n",
    "\n",
    "    # Convert the list of dictionaries to a DataFrame\n",
    "    df = pd.DataFrame(data_list)\n",
    "    return df"
   ]
  },
  {
   "cell_type": "code",
   "execution_count": 11,
   "metadata": {},
   "outputs": [],
   "source": [
    "data_dir = \"/cluster/scratch/vogtva/data/gray_scott/\"\n",
    "df0 = get_db(data_dir)"
   ]
  },
  {
   "cell_type": "code",
   "execution_count": 12,
   "metadata": {},
   "outputs": [],
   "source": [
    "df = df0[df0['run_id'] == 'gs_vary_ab']"
   ]
  },
  {
   "cell_type": "code",
   "execution_count": 7,
   "metadata": {},
   "outputs": [],
   "source": [
    "def delete_run(df, run_id):\n",
    "    for i, row in df.iterrows():\n",
    "        if row['run_id'] == run_id:\n",
    "            filename = row['filename']\n",
    "            df.drop(i, inplace=True)\n",
    "            os.remove(filename)\n",
    "            os.remove(filename.replace(\"_output.nc\", \".json\"))\n",
    "            os.remove(filename.replace(\"_output.nc\", \".nc\"))\n",
    "\n",
    "    return df\n"
   ]
  },
  {
   "cell_type": "code",
   "execution_count": 8,
   "metadata": {},
   "outputs": [
    {
     "data": {
      "text/html": [
       "<div>\n",
       "<style scoped>\n",
       "    .dataframe tbody tr th:only-of-type {\n",
       "        vertical-align: middle;\n",
       "    }\n",
       "\n",
       "    .dataframe tbody tr th {\n",
       "        vertical-align: top;\n",
       "    }\n",
       "\n",
       "    .dataframe thead th {\n",
       "        text-align: right;\n",
       "    }\n",
       "</style>\n",
       "<table border=\"1\" class=\"dataframe\">\n",
       "  <thead>\n",
       "    <tr style=\"text-align: right;\">\n",
       "      <th></th>\n",
       "      <th>model</th>\n",
       "      <th>A</th>\n",
       "      <th>B</th>\n",
       "      <th>Nx</th>\n",
       "      <th>dx</th>\n",
       "      <th>Nt</th>\n",
       "      <th>dt</th>\n",
       "      <th>Du</th>\n",
       "      <th>Dv</th>\n",
       "      <th>sigma_ic</th>\n",
       "      <th>random_seed</th>\n",
       "      <th>n_snapshots</th>\n",
       "      <th>filename</th>\n",
       "      <th>run_id</th>\n",
       "    </tr>\n",
       "  </thead>\n",
       "  <tbody>\n",
       "  </tbody>\n",
       "</table>\n",
       "</div>"
      ],
      "text/plain": [
       "Empty DataFrame\n",
       "Columns: [model, A, B, Nx, dx, Nt, dt, Du, Dv, sigma_ic, random_seed, n_snapshots, filename, run_id]\n",
       "Index: []"
      ]
     },
     "execution_count": 8,
     "metadata": {},
     "output_type": "execute_result"
    }
   ],
   "source": [
    "delete_run(df, 'gs_vary_ab')"
   ]
  },
  {
   "cell_type": "code",
   "execution_count": null,
   "metadata": {},
   "outputs": [],
   "source": []
  }
 ],
 "metadata": {
  "kernelspec": {
   "display_name": "Python 3",
   "language": "python",
   "name": "python3"
  },
  "language_info": {
   "codemirror_mode": {
    "name": "ipython",
    "version": 3
   },
   "file_extension": ".py",
   "mimetype": "text/x-python",
   "name": "python",
   "nbconvert_exporter": "python",
   "pygments_lexer": "ipython3",
   "version": "3.11.6"
  },
  "orig_nbformat": 4
 },
 "nbformat": 4,
 "nbformat_minor": 2
}
