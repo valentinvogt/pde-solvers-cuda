{
 "cells": [
  {
   "cell_type": "code",
   "execution_count": 15,
   "metadata": {},
   "outputs": [],
   "source": [
    "import math"
   ]
  },
  {
   "cell_type": "code",
   "execution_count": 27,
   "metadata": {},
   "outputs": [],
   "source": [
    "max_pot = 4"
   ]
  },
  {
   "cell_type": "code",
   "execution_count": 28,
   "metadata": {},
   "outputs": [],
   "source": [
    "def f(n, i, j):\n",
    "    return n * (i + j * max_pot) + (n - 1)"
   ]
  },
  {
   "cell_type": "code",
   "execution_count": 29,
   "metadata": {},
   "outputs": [
    {
     "name": "stdout",
     "output_type": "stream",
     "text": [
      "u0 * v0 at 0\n",
      "u1 * v0 at 2\n",
      "u2 * v0 at 4\n",
      "u3 * v0 at 6\n",
      "u0 * v1 at 8\n",
      "u1 * v1 at 10\n",
      "u2 * v1 at 12\n",
      "u3 * v1 at 14\n",
      "u0 * v2 at 16\n",
      "u1 * v2 at 18\n",
      "u2 * v2 at 20\n",
      "u3 * v2 at 22\n",
      "u0 * v3 at 24\n",
      "u1 * v3 at 26\n",
      "u2 * v3 at 28\n",
      "u3 * v3 at 30\n"
     ]
    }
   ],
   "source": [
    "for i in range(max_pot**2):\n",
    "    print(f\"u{i % max_pot} * v{int(math.floor((i / max_pot))) % max_pot} at {2*i}\")"
   ]
  },
  {
   "cell_type": "code",
   "execution_count": null,
   "metadata": {},
   "outputs": [],
   "source": []
  }
 ],
 "metadata": {
  "kernelspec": {
   "display_name": "Python 3",
   "language": "python",
   "name": "python3"
  },
  "language_info": {
   "codemirror_mode": {
    "name": "ipython",
    "version": 3
   },
   "file_extension": ".py",
   "mimetype": "text/x-python",
   "name": "python",
   "nbconvert_exporter": "python",
   "pygments_lexer": "ipython3",
   "version": "3.11.7"
  }
 },
 "nbformat": 4,
 "nbformat_minor": 2
}
