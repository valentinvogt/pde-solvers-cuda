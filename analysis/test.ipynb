{
 "cells": [
  {
   "cell_type": "code",
   "execution_count": 2,
   "metadata": {},
   "outputs": [],
   "source": [
    "import netCDF4 as nc"
   ]
  },
  {
   "cell_type": "code",
   "execution_count": 7,
   "metadata": {},
   "outputs": [],
   "source": [
    "f = nc.Dataset('../data/gs/gs-A_0.037-B_0.05.nc', 'r')"
   ]
  },
  {
   "cell_type": "code",
   "execution_count": 8,
   "metadata": {},
   "outputs": [
    {
     "data": {
      "text/plain": [
       "<class 'netCDF4.Dataset'>\n",
       "root group (NETCDF4 data model, file format HDF5):\n",
       "    type_of_equation: 2\n",
       "    n_members: 1\n",
       "    x_size: 150\n",
       "    x_length: 150.0\n",
       "    y_size: 150\n",
       "    y_length: 150.0\n",
       "    boundary_value_type: 2\n",
       "    scalar_type: 0\n",
       "    n_coupled: 2\n",
       "    coupled_function_order: 3\n",
       "    number_timesteps: 5000\n",
       "    final_time: 250.0\n",
       "    number_snapshots: 100\n",
       "    file_to_save_output: data/gs/gs-A_0.037-B_0.05_output.nc\n",
       "    dimensions(sizes): x_size(152), y_size_coupled(304), x_size_sigma(301), y_size_sigma(151), n_members(1), function_scaling_size(18)\n",
       "    variables(dimensions): float32 initial_data(n_members, x_size, y_size_coupled), float32 sigma_values(n_members, x_size_sigma, y_size_sigma), float32 function_scalings(n_members, function_scaling_size), float32 Du(), float32 Dv()\n",
       "    groups: "
      ]
     },
     "execution_count": 8,
     "metadata": {},
     "output_type": "execute_result"
     "output_type": "execute_result"
    }
   ],
   "source": [
    "f"
   ]
  },
  {
   "cell_type": "code",
   "execution_count": null,
   "metadata": {},
   "outputs": [],
   "source": []
  }
 ],
 "metadata": {
  "kernelspec": {
   "display_name": "Python 3",
   "language": "python",
   "name": "python3"
  },
  "language_info": {
   "codemirror_mode": {
    "name": "ipython",
    "version": 3
   },
   "file_extension": ".py",
   "mimetype": "text/x-python",
   "name": "python",
   "nbconvert_exporter": "python",
   "pygments_lexer": "ipython3",
   "version": "3.11.6"
  },
  "orig_nbformat": 4
 },
 "nbformat": 4,
 "nbformat_minor": 2
}
