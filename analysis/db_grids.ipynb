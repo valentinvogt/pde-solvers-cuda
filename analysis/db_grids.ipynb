{
 "cells": [
  {
   "cell_type": "code",
   "execution_count": null,
   "metadata": {},
   "outputs": [],
   "source": [
    "import netCDF4 as nc\n",
    "import numpy as np\n",
    "import matplotlib.pyplot as plt\n",
    "import matplotlib.animation as animation\n",
    "from mpl_toolkits.axes_grid1 import ImageGrid\n",
    "from matplotlib.animation import FuncAnimation\n",
    "\n",
    "import os\n",
    "import glob\n",
    "import pandas as pd\n",
    "import json\n",
    "from dotenv import load_dotenv\n",
    "from functools import partial\n",
    "\n",
    "from utils.db_tools import get_data, get_db"
   ]
  },
  {
   "cell_type": "code",
   "execution_count": 3,
   "metadata": {},
   "outputs": [
    {
     "data": {
      "text/plain": [
       "array(['abd_test'], dtype=object)"
      ]
     },
     "execution_count": 3,
     "metadata": {},
     "output_type": "execute_result"
    }
   ],
   "source": [
    "model = \"bruss\"\n",
    "run_id = \"abd_test\"\n",
    "load_dotenv()\n",
    "data_dir = os.getenv(\"DATA_DIR\")\n",
    "output_dir = os.getenv(\"OUT_DIR\")\n",
    "output_dir = os.path.join(output_dir, model, run_id)\n",
    "os.makedirs(output_dir, exist_ok=True)\n",
    "df0 = get_db(os.path.join(data_dir, model, run_id))\n",
    "df0['run_id'].unique()"
   ]
  },
  {
   "cell_type": "code",
   "execution_count": 4,
   "metadata": {},
   "outputs": [
    {
     "data": {
      "text/plain": [
       "378"
      ]
     },
     "execution_count": 4,
     "metadata": {},
     "output_type": "execute_result"
    }
   ],
   "source": [
    "len(df0)"
   ]
  },
  {
   "cell_type": "code",
   "execution_count": 4,
   "metadata": {},
   "outputs": [],
   "source": [
    "df = df0.copy()\n",
    "df = df[df['run_id'] == run_id]"
   ]
  },
  {
   "cell_type": "code",
   "execution_count": null,
   "metadata": {},
   "outputs": [],
   "source": [
    "def filter_blowup(df, threshold=1e3):\n",
    "    valid_rows = []\n",
    "    for i, row in df.iterrows():\n",
    "        data = get_data(row)\n",
    "        if np.isfinite(data).all() and np.max(data) < threshold:\n",
    "            valid_rows.append(row)\n",
    "    return pd.DataFrame(valid_rows)\n",
    "\n",
    "df = filter_blowup(df)\n",
    "len(df)"
   ]
  },
  {
   "cell_type": "code",
   "execution_count": null,
   "metadata": {},
   "outputs": [],
   "source": [
    "df[(df['A'] == 0.1) & (df['B'] == 0.125) & (df['Du'] == 1.0)].iloc[0]['filename']"
   ]
  },
  {
   "cell_type": "code",
   "execution_count": null,
   "metadata": {},
   "outputs": [],
   "source": [
    "def ab_grid(\n",
    "    df, component_idx=0, frame=-1, sigdigits=2, var1=\"A\", var2=\"B\", file=\"\", an=False\n",
    "):\n",
    "    if len(df) == 0:\n",
    "        return None\n",
    "\n",
    "    df = df.sort_values(by=[var1, var2])\n",
    "    A_count = len(df[var1].unique())\n",
    "    print(A_count)\n",
    "    B_count = int(len(df) / A_count)\n",
    "    print(B_count)\n",
    "    fig = plt.figure(figsize=(15, 12))\n",
    "    grid = ImageGrid(fig, 111, nrows_ncols=(A_count, B_count), axes_pad=(0.1, 0.3))\n",
    "\n",
    "    ims = []\n",
    "\n",
    "    for i, row in df.iterrows():\n",
    "        data = get_data(row)\n",
    "        f_min = data.min()\n",
    "        f_max = data.max()\n",
    "        ims.append((row, data[0, frame, :, component_idx::2], f_min, f_max))\n",
    "        \n",
    "    for ax, (row, im, f_min, f_max) in zip(grid, ims):\n",
    "        ax.set_title(\n",
    "            f\"{var1}={row[var1]:.{sigdigits}f}\\n{var2} = {row[var2]:.{sigdigits}f}\",\n",
    "            fontsize=6,\n",
    "        )\n",
    "        ax.imshow(im, cmap=\"viridis\", vmin=f_min, vmax=f_max)\n",
    "        ax.set_aspect(\"equal\")\n",
    "        ax.axis(\"off\")\n",
    "        \n",
    "    row = df.iloc[0]\n",
    "    if frame == -1:\n",
    "        time = row[\"dt\"] * row[\"Nt\"]\n",
    "    else:\n",
    "        time = row[\"dt\"] * frame * row[\"Nt\"] / row[\"n_snapshots\"]\n",
    "    fig.suptitle(\n",
    "        f\"{row['model'].capitalize()}, Nx={row['Nx']}, dx={row['dx']}, dt={row['dt']}, T={time:.2f}\",\n",
    "        fontsize=16,\n",
    "    )\n",
    "\n",
    "    if file != \"\":\n",
    "        plt.savefig(file, dpi=100)\n",
    "    # if not an:\n",
    "    #     plt.show()\n",
    "    return grid\n"
   ]
  },
  {
   "cell_type": "code",
   "execution_count": null,
   "metadata": {},
   "outputs": [],
   "source": [
    "ab_grid(df, 0, var1='A', var2='B')"
   ]
  },
  {
   "cell_type": "code",
   "execution_count": 12,
   "metadata": {},
   "outputs": [],
   "source": [
    "def plot(data, global_min, global_max):\n",
    "    fig, axes = plt.subplots(1, 2, figsize=(12, 6), gridspec_kw={\"wspace\": 0.4})\n",
    "    ims = []\n",
    "    for coupled_idx, ax in enumerate(axes):\n",
    "        matrix = data[0, 0, :, coupled_idx::2]\n",
    "        matrix /= np.max(matrix)\n",
    "        im = ax.imshow(matrix, cmap=\"viridis\", aspect=\"equal\", vmin=0, vmax=1)\n",
    "        ax.set_title(f\"Snapshot 1, Component {coupled_idx + 1}\")\n",
    "        ims.append(im)\n",
    "    return fig, axes, ims\n",
    "\n",
    "def animate(snapshot, data, ims, axes):\n",
    "    for coupled_idx, (ax, im) in enumerate(zip(axes, ims)):\n",
    "        matrix = data[0, snapshot, :, coupled_idx::2]\n",
    "        matrix /= matrix.max()  # Normalize\n",
    "        im.set_array(matrix)\n",
    "        name = \"u\" if coupled_idx == 0 else \"v\"\n",
    "        ax.set_title(f\"Snapshot {snapshot + 1}, {name}\")\n",
    "    return ims\n",
    "\n",
    "def make_animation(data, name, out_dir):\n",
    "    global_min = np.min(data)\n",
    "    global_max = np.max(data)\n",
    "    fig, axes, ims = plot(data, global_min, global_max)\n",
    "    ani = animation.FuncAnimation(\n",
    "        fig,\n",
    "        partial(animate, data=data, ims=ims, axes=axes),\n",
    "        frames=data.shape[1],\n",
    "        interval=100,\n",
    "        blit=True,\n",
    "    )\n",
    "    out_name = os.path.join(out_dir, f\"{name}_output_norm.gif\")\n",
    "    ani.save(out_name, writer=\"ffmpeg\", dpi=150)\n",
    "    plt.close(fig)"
   ]
  },
  {
   "cell_type": "code",
   "execution_count": 7,
   "metadata": {},
   "outputs": [],
   "source": [
    "# def plot(data, coupled_idx=0):\n",
    "#     global_min = np.min(data)\n",
    "#     global_max = np.max(data)\n",
    "#     fig, ax = plt.subplots(nrows=1, ncols=1, figsize=(12, 6))\n",
    "\n",
    "#     # Display the first snapshot initially; this will be updated in the animation\n",
    "#     matrix = data[0, 0, :, coupled_idx::2]\n",
    "#     im = ax.imshow(\n",
    "#         matrix, cmap=\"viridis\", aspect=\"equal\", vmin=glo, vmax=1\n",
    "#     )\n",
    "#     return fig, ax, im\n",
    "\n",
    "\n",
    "# def animate(snapshot, coupled_idx, data, im, ax):\n",
    "#     print(f\"Animate called with idx {snapshot}\")\n",
    "#     matrix = data[0, snapshot, :, coupled_idx::2]\n",
    "#     matrix /= matrix.max()\n",
    "#     im.set_array(matrix)  # Update data for each coupled component\n",
    "#     name = \"u\" if coupled_idx == 0 else \"v\"\n",
    "#     ax.set_title(\n",
    "#         f\"Snapshot {snapshot + 1}, {name}\"\n",
    "#     )\n",
    "#     return [im]\n",
    "\n",
    "\n",
    "# def make_animation(data, name, out_dir, coupled_idx):\n",
    "#     fig, ax, im = plot(data, coupled_idx)\n",
    "#     print(data.shape[1])\n",
    "#     ani = animation.FuncAnimation(\n",
    "#         fig,\n",
    "#         partial(animate, coupled_idx=coupled_idx, data=data, im=im, ax=ax),\n",
    "#         frames=data.shape[1],\n",
    "#         interval=100,\n",
    "#         blit=True,\n",
    "#     )\n",
    "#     out_name = os.path.join(out_dir, f\"{name}_output.gif\")\n",
    "#     ani.save(out_name, writer=\"ffmpeg\", dpi=150)\n",
    "#     plt.close(fig)"
   ]
  },
  {
   "cell_type": "code",
   "execution_count": 13,
   "metadata": {},
   "outputs": [
    {
     "name": "stderr",
     "output_type": "stream",
     "text": [
      "MovieWriter ffmpeg unavailable; using Pillow instead.\n",
      "MovieWriter ffmpeg unavailable; using Pillow instead.\n",
      "MovieWriter ffmpeg unavailable; using Pillow instead.\n",
      "MovieWriter ffmpeg unavailable; using Pillow instead.\n",
      "MovieWriter ffmpeg unavailable; using Pillow instead.\n",
      "MovieWriter ffmpeg unavailable; using Pillow instead.\n",
      "MovieWriter ffmpeg unavailable; using Pillow instead.\n"
     ]
    }
   ],
   "source": [
    "Du = 1\n",
    "Dv = 4\n",
    "A = 5\n",
    "for B_mult in [1.25, 1.75, 2, 2.5, 3, 4, 5]:\n",
    "    B=A*B_mult\n",
    "    df_filt = df[(df['Du'] == Du) & (df['Dv'] == Dv) & (df['A'] == A) & (df['B'] == B)]\n",
    "    row = df_filt.iloc[0]\n",
    "    data = get_data(row)\n",
    "    make_animation(data, f\"Du_{Du}-Dv_{Dv}-A_{A}-B_{B}_norm\", \"\")"
   ]
  },
  {
   "cell_type": "code",
   "execution_count": null,
   "metadata": {},
   "outputs": [],
   "source": [
    "for Du in [1., 2., 3.]:\n",
    "    for Dv_ratio in [4, 11, 18]:\n",
    "        Dv = Dv_ratio * Du\n",
    "        df_filt = df[(df['Du'] == Du) & (df['Dv'] == Dv)]\n",
    "        # ab_grid(df_filt, 0, frame=-1, sigdigits=1, var1=\"A\", var2=\"B\", file=f\"../out/abd_grids/Du_{Du}-Dv_{Dv}.png\")\n",
    "        convergence_plot(df_filt, sigdigits=1, var1=\"A\", var2=\"B\", file=\"../out/abd_grids/a_b_dt.png\")"
   ]
  },
  {
   "cell_type": "code",
   "execution_count": null,
   "metadata": {},
   "outputs": [],
   "source": [
    "def convergence_plot(df, sigdigits=2, var1=\"A\", var2=\"B\", file=\"\", mode=\"dev\"):\n",
    "    if mode == \"dev\":\n",
    "        text = \"Deviation ||u(t) - u*||\"\n",
    "    elif mode == \"dx\":\n",
    "        text = \"Spatial Derivative ||∇u(t)||\"\n",
    "    elif mode == \"dt\":\n",
    "        text = \"Time Derivative ||du/dt||\"\n",
    "    else:\n",
    "        raise ValueError(\"mode must be 'dev', 'dx', or 'dt'\")\n",
    "    \n",
    "    if len(df) == 0:\n",
    "        return None\n",
    "    start_frame = 10\n",
    "    df = df.sort_values(by=[var1, var2])\n",
    "    df = df.reset_index(drop=True)\n",
    "    A_count = len(df[var1].unique())\n",
    "    B_count = int(len(df) / A_count)\n",
    "    fig, axes = plt.subplots(A_count, B_count, figsize=(3 * B_count + 1, 5 * A_count))\n",
    "    axes = np.atleast_2d(axes)\n",
    "    for i, row in df.iterrows():\n",
    "        data = get_data(row)\n",
    "        steady_state = np.zeros_like(data[0, 0, :, :])\n",
    "        steady_state[:, 0::2] = row[\"A\"]\n",
    "        steady_state[:, 1::2] = row[\"B\"] / row[\"A\"]\n",
    "        deviations = []\n",
    "        time_derivatives = []\n",
    "        spatial_derivatives = []\n",
    "        du_dt = np.gradient(data[0, :, :, 0::2], row[\"dt\"], axis=0)\n",
    "        for j in range(start_frame, data.shape[1]):\n",
    "            u = data[0, j, :, 0::2]\n",
    "            v = data[0, j, :, 1::2]\n",
    "            du_dx = np.gradient(u, row[\"dx\"], axis=0)\n",
    "            dv_dx = np.gradient(v, row[\"dx\"], axis=0)\n",
    "            deviations.append(np.linalg.norm(data[0, j, :, :] - steady_state))\n",
    "            time_derivatives.append(np.linalg.norm(du_dt[j]))\n",
    "            spatial_derivatives.append(np.linalg.norm(du_dx) + np.linalg.norm(dv_dx))\n",
    "\n",
    "        if mode == \"dev\":\n",
    "            values = deviations\n",
    "        elif mode == \"dx\":\n",
    "            values = spatial_derivatives\n",
    "        elif mode == \"dt\":\n",
    "            values = time_derivatives\n",
    "        axes[i // B_count, i % B_count].plot(\n",
    "            np.arange(0, data.shape[1]-start_frame) * row[\"dt\"] * row[\"Nt\"] / row[\"n_snapshots\"],\n",
    "            values,\n",
    "        )\n",
    "        axes[i // B_count, i % B_count].set_title(\n",
    "            f\"{var1}={row[var1]:.{sigdigits}f}\\n{var2} = {row[var2]:.{sigdigits}f}\",\n",
    "            fontsize=6,\n",
    "        )\n",
    "        # axes[i // B_count, i % B_count].axis(\"off\")\n",
    "    row = df.iloc[0]\n",
    "    time = row[\"dt\"] * row[\"Nt\"]\n",
    "    fig.suptitle(\n",
    "        f\"{row['model'].capitalize()}, Nx={row['Nx']}, dx={row['dx']}, dt={row['dt']}, T={time:.2f}, {text}\",\n",
    "        fontsize=4*B_count,\n",
    "    )\n",
    "    plt.tight_layout()\n",
    "    plt.subplots_adjust(top=0.95)\n",
    "    # plt.show()\n",
    "    if file != \"\":\n",
    "        fig.savefig(file, dpi=100)\n",
    "    plt.close()"
   ]
  },
  {
   "cell_type": "code",
   "execution_count": null,
   "metadata": {},
   "outputs": [],
   "source": [
    "for Du in [1.0, 2.0, 3.0]:\n",
    "    for Dv_ratio in [4, 11, 18]:\n",
    "        Dv = Dv_ratio * Du\n",
    "        df_filt = df[(df[\"Du\"] == Du) & (df[\"Dv\"] == Dv)]\n",
    "        # ab_grid(df_filt, 0, frame=-1, sigdigits=1, var1=\"A\", var2=\"B\", file=f\"../out/abd_grids/final_Du_{Du}-Dv_{Dv}.png\")\n",
    "        dir = \"../out/abd_burn_in/\"\n",
    "        convergence_plot(\n",
    "            df_filt,\n",
    "            sigdigits=1,\n",
    "            var1=\"A\",\n",
    "            var2=\"B\",\n",
    "            file=dir + f\"dev_Du_{Du}-Dv_{Dv}.png\",\n",
    "            mode=\"dev\",\n",
    "        )\n",
    "        convergence_plot(\n",
    "            df_filt,\n",
    "            sigdigits=1,\n",
    "            var1=\"A\",\n",
    "            var2=\"B\",\n",
    "            file=dir + f\"dx_Du_{Du}-Dv_{Dv}.png\",\n",
    "            mode=\"dx\",\n",
    "        )\n",
    "        convergence_plot(\n",
    "            df_filt,\n",
    "            sigdigits=1,\n",
    "            var1=\"A\",\n",
    "            var2=\"B\",\n",
    "            file=dir + f\"dt_Du_{Du}-Dv_{Dv}.png\",\n",
    "            mode=\"dt\",\n",
    "        )\n"
   ]
  },
  {
   "cell_type": "code",
   "execution_count": null,
   "metadata": {},
   "outputs": [],
   "source": []
  }
 ],
 "metadata": {
  "kernelspec": {
   "display_name": "Python 3",
   "language": "python",
   "name": "python3"
  },
  "language_info": {
   "codemirror_mode": {
    "name": "ipython",
    "version": 3
   },
   "file_extension": ".py",
   "mimetype": "text/x-python",
   "name": "python",
   "nbconvert_exporter": "python",
   "pygments_lexer": "ipython3",
   "version": "3.11.6"
  },
  "orig_nbformat": 4
 },
 "nbformat": 4,
 "nbformat_minor": 2
}
