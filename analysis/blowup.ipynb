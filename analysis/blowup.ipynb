{
 "cells": [
  {
   "cell_type": "code",
   "execution_count": 1,
   "metadata": {},
   "outputs": [],
   "source": [
    "import netCDF4 as nc\n",
    "import numpy as np\n",
    "import matplotlib.pyplot as plt\n",
    "import matplotlib.animation as animation\n",
    "from mpl_toolkits.axes_grid1 import ImageGrid\n",
    "from matplotlib.animation import FuncAnimation\n",
    "from matplotlib.backends.backend_pdf import PdfPages\n",
    "\n",
    "import os\n",
    "import glob\n",
    "import pandas as pd\n",
    "import json\n",
    "from dotenv import load_dotenv\n",
    "from functools import partial\n",
    "\n",
    "from utils.db_tools import get_db, classify_trajectories, metrics_grid, plot_grid, make_animation"
   ]
  },
  {
   "cell_type": "code",
   "execution_count": 2,
   "metadata": {},
   "outputs": [
    {
     "data": {
      "text/plain": [
       "10"
      ]
     },
     "execution_count": 2,
     "metadata": {},
     "output_type": "execute_result"
    }
   ],
   "source": [
    "model = \"bruss\"\n",
    "run_id = \"blowup_test\"\n",
    "load_dotenv()\n",
    "data_dir = os.getenv(\"DATA_DIR\")\n",
    "output_dir = os.getenv(\"OUT_DIR\")\n",
    "output_dir = os.path.join(output_dir, model, run_id)\n",
    "os.makedirs(output_dir, exist_ok=True)\n",
    "df0 = get_db(os.path.join(data_dir, model, run_id))\n",
    "df = df0.copy()\n",
    "df = df[df['run_id'] == run_id]\n",
    "len(df)"
   ]
  },
  {
   "cell_type": "code",
   "execution_count": 26,
   "metadata": {},
   "outputs": [],
   "source": [
    "Du = 1\n",
    "Dv = 18\n",
    "A = 11\n",
    "B = 55\n",
    "df_filt = df[(df[\"Du\"] == Du) & (df[\"Dv\"] == Dv) & (df[\"A\"] == A) & (df[\"B\"] == B) & (df[\"random_seed\"] == 1)]"
   ]
  },
  {
   "cell_type": "code",
   "execution_count": 27,
   "metadata": {},
   "outputs": [
    {
     "name": "stdout",
     "output_type": "stream",
     "text": [
      "u_min, u_std, u_max 10.634356 0.10000841 11.416812\n",
      "v_min, v_std, v_max 4.634356 0.100008406 5.416812\n",
      "u_min, u_std, u_max 9.952065 0.2904743 12.232405\n",
      "v_min, v_std, v_max 4.664762 0.07873842 5.2839046\n",
      "u_min, u_std, u_max 9.359256 0.44631267 12.7984495\n",
      "v_min, v_std, v_max 4.5163746 0.119751304 5.4437118\n",
      "u_min, u_std, u_max 8.439335 0.696322 13.6191\n",
      "v_min, v_std, v_max 4.324046 0.1788906 5.686216\n",
      "u_min, u_std, u_max 7.039512 1.1017263 14.954737\n",
      "v_min, v_std, v_max 4.0638294 0.27258605 6.033211\n",
      "u_min, u_std, u_max 5.093938 1.747302 17.010895\n",
      "v_min, v_std, v_max 3.7036042 0.41598612 6.4143333\n",
      "u_min, u_std, u_max 3.148084 2.726758 19.82764\n",
      "v_min, v_std, v_max 3.2470284 0.6162809 6.6602798\n",
      "u_min, u_std, u_max 1.852713 4.0749507 23.357878\n",
      "v_min, v_std, v_max 2.7826347 0.8530987 7.012426\n",
      "u_min, u_std, u_max 1.2960019 5.6864424 27.239985\n",
      "v_min, v_std, v_max 2.3699431 1.0765922 7.1923156\n",
      "u_min, u_std, u_max 0.9729499 7.3458424 30.936863\n",
      "v_min, v_std, v_max 2.0563653 1.2376434 7.4166527\n",
      "u_min, u_std, u_max 0.6869987 8.855147 34.443954\n",
      "v_min, v_std, v_max 1.8266175 1.315095 7.416916\n",
      "u_min, u_std, u_max 0.46984443 10.112156 37.54769\n",
      "v_min, v_std, v_max 1.3451864 1.3214964 7.468519\n",
      "u_min, u_std, u_max -22291.451 171.91692 37.368343\n",
      "v_min, v_std, v_max 1.1837867 171.7231 22327.95\n"
     ]
    }
   ],
   "source": [
    "row = df_filt.iloc[0]\n",
    "ds = nc.Dataset(row[\"filename\"])\n",
    "data = data = ds.variables[\"data\"][:]\n",
    "\n",
    "make"
   ]
  },
  {
   "cell_type": "code",
   "execution_count": 25,
   "metadata": {},
   "outputs": [],
   "source": [
    "row = df_filt.iloc[0]\n",
    "ds = nc.Dataset(row[\"filename\"])\n",
    "data = data = ds.variables[\"data\"][:]\n",
    "data = data[:, :13, :, :]\n",
    "global_min = 0\n",
    "global_max = 10\n",
    "\n",
    "# Create a PdfPages object\n",
    "pdf_filename = \"blowup_1.pdf\"\n",
    "\n",
    "with PdfPages(pdf_filename) as pdf:\n",
    "    for snapshot in range(13):\n",
    "        # Create a figure for each snapshot\n",
    "        fig, axes = plt.subplots(nrows=2, ncols=1, figsize=(10, 10 * 2),\n",
    "                                    gridspec_kw={'width_ratios': [1], 'height_ratios': [1] * 2, 'wspace': 0.1, 'hspace': 0.1})\n",
    "\n",
    "        # plot only first functions\n",
    "        # fig, axes = plt.subplots(nrows=1, ncols=1, figsize=(10, 10),\n",
    "                                    # gridspec_kw={'width_ratios': [1], 'height_ratios': [1], 'wspace': 0.1, 'hspace': 0.1})\n",
    "\n",
    "        for coupled_idx in range(2):\n",
    "            ax = axes[coupled_idx]\n",
    "\n",
    "            # Extract the 2D matrix for the current member, snapshot, and coupled index\n",
    "            matrix = data[0, snapshot, :, coupled_idx::2]\n",
    "\n",
    "            # Plot the matrix\n",
    "            im = ax.imshow(matrix, cmap='viridis', aspect='equal', vmin=global_min, vmax=global_max)\n",
    "            ax.set_title(f'Snapshot {snapshot + 1}, Coupled Index {coupled_idx + 1}')\n",
    "            ax.set_xlabel('y')\n",
    "            ax.set_ylabel('x')\n",
    "            # ax.set_xlim(0, y_size)\n",
    "            # ax.set_ylim(x_size, 0)\n",
    "\n",
    "        # Add a colorbar to the figure\n",
    "        cbar = fig.colorbar(im, ax=axes, orientation='vertical', fraction=0.02, pad=0.04)\n",
    "        cbar.set_label('Data Value')\n",
    "\n",
    "        # Adjust layout to prevent overlap\n",
    "        # plt.tight_layout(rect=[0, 0, 0.95, 1])  # Adjust rect to make room for colorbar\n",
    "\n",
    "        # Save the figure to a file\n",
    "        output_filename = 'blowup_1.pdf'\n",
    "        pdf.savefig(bbox_inches='tight')\n",
    "        plt.close(fig)  # Close the figure to free memory\n"
   ]
  },
  {
   "cell_type": "code",
   "execution_count": null,
   "metadata": {},
   "outputs": [],
   "source": []
  }
 ],
 "metadata": {
  "kernelspec": {
   "display_name": "Python 3",
   "language": "python",
   "name": "python3"
  },
  "language_info": {
   "codemirror_mode": {
    "name": "ipython",
    "version": 3
   },
   "file_extension": ".py",
   "mimetype": "text/x-python",
   "name": "python",
   "nbconvert_exporter": "python",
   "pygments_lexer": "ipython3",
   "version": "3.11.6"
  },
  "orig_nbformat": 4
 },
 "nbformat": 4,
 "nbformat_minor": 2
}
