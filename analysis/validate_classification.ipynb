{
 "cells": [
  {
   "cell_type": "code",
   "execution_count": 1,
   "metadata": {},
   "outputs": [
    {
     "data": {
      "text/plain": [
       "<module 'utils.db_tools' from '/cluster/home/vogtva/pde-solvers-cuda/analysis/utils/db_tools.py'>"
      ]
     },
     "execution_count": 1,
     "metadata": {},
     "output_type": "execute_result"
    }
   ],
   "source": [
    "import importlib\n",
    "\n",
    "import pandas as pd\n",
    "import numpy as np\n",
    "from classify import compute_classification_metrics, classify_trajectories\n",
    "from utils.db_tools import metrics_grid, get_data\n",
    "from scipy.fft import fft, fftfreq\n",
    "\n",
    "import utils.db_tools as db_tools\n",
    "importlib.reload(db_tools)"
   ]
  },
  {
   "cell_type": "code",
   "execution_count": 2,
   "metadata": {},
   "outputs": [
    {
     "name": "stderr",
     "output_type": "stream",
     "text": [
      "/scratch/tmp.24541152.vogtva/ipykernel_2319046/1412930917.py:11: SettingWithCopyWarning: \n",
      "A value is trying to be set on a copy of a slice from a DataFrame.\n",
      "Try using .loc[row_indexer,col_indexer] = value instead\n",
      "\n",
      "See the caveats in the documentation: https://pandas.pydata.org/pandas-docs/stable/user_guide/indexing.html#returning-a-view-versus-a-copy\n",
      "  df_mix_osc[\"label\"] = \"osc\"\n"
     ]
    }
   ],
   "source": [
    "df1 = pd.read_csv('sample_data/osc.csv')\n",
    "df1[\"label\"] = \"osc\"\n",
    "df2 = pd.read_csv('sample_data/ss.csv')\n",
    "df2[\"label\"] = \"ss\"\n",
    "\n",
    "# from visual inspection\n",
    "osc_rows = np.r_[0:4, 6:9, 10, 13:20, 21:28, 29, 31:34, 35, 37, 39:48, 49:52, 53, 55:58, 59]\n",
    "\n",
    "df_mix = pd.read_csv('sample_data/mix.csv')\n",
    "df_mix_osc = df_mix.iloc[osc_rows]\n",
    "df_mix_osc[\"label\"] = \"osc\"\n",
    "\n",
    "df_dss = df_mix.drop(index=osc_rows)\n",
    "df_dss[\"label\"] = \"dss\""
   ]
  },
  {
   "cell_type": "code",
   "execution_count": 3,
   "metadata": {},
   "outputs": [],
   "source": [
    "df = pd.concat([df1, df2, df_mix_osc, df_dss])\n",
    "df = df.reset_index();"
   ]
  },
  {
   "cell_type": "code",
   "execution_count": 4,
   "metadata": {},
   "outputs": [
    {
     "name": "stdout",
     "output_type": "stream",
     "text": [
      "u  (100, 130, 130)\n",
      "u  (100, 130, 130)\n",
      "u  (100, 130, 130)\n",
      "u  (100, 130, 130)\n",
      "u  (100, 130, 130)\n",
      "u  (100, 130, 130)\n",
      "u  (100, 130, 130)\n",
      "u  (100, 130, 130)\n",
      "u  (100, 130, 130)\n",
      "u  (100, 130, 130)\n",
      "u  (100, 130, 130)\n",
      "u  (100, 130, 130)\n",
      "u  (100, 130, 130)\n",
      "u  (100, 130, 130)\n",
      "u  (100, 130, 130)\n",
      "u  (100, 130, 130)\n",
      "u  (100, 130, 130)\n",
      "u  (100, 130, 130)\n",
      "u  (100, 130, 130)\n",
      "u  (100, 130, 130)\n",
      "u  (100, 130, 130)\n",
      "u  (100, 130, 130)\n",
      "u  (100, 130, 130)\n",
      "u  (100, 130, 130)\n",
      "u  (100, 130, 130)\n",
      "u  (100, 130, 130)\n",
      "u  (100, 130, 130)\n",
      "u  (100, 130, 130)\n",
      "u  (100, 130, 130)\n",
      "u  (100, 130, 130)\n",
      "u  (100, 130, 130)\n",
      "u  (100, 130, 130)\n",
      "u  (100, 130, 130)\n",
      "u  (100, 130, 130)\n",
      "u  (100, 130, 130)\n",
      "u  (100, 130, 130)\n",
      "u  (100, 130, 130)\n",
      "u  (100, 130, 130)\n",
      "u  (100, 130, 130)\n",
      "u  (100, 130, 130)\n",
      "u  (100, 130, 130)\n",
      "u  (100, 130, 130)\n",
      "u  (100, 130, 130)\n",
      "u  (100, 130, 130)\n",
      "u  (100, 130, 130)\n",
      "u  (100, 130, 130)\n",
      "u  (100, 130, 130)\n",
      "u  (100, 130, 130)\n",
      "u  (100, 130, 130)\n",
      "u  (100, 130, 130)\n",
      "u  (100, 130, 130)\n",
      "u  (100, 130, 130)\n",
      "u  (100, 130, 130)\n",
      "u  (100, 130, 130)\n",
      "u  (100, 130, 130)\n",
      "u  (100, 130, 130)\n",
      "u  (100, 130, 130)\n",
      "u  (100, 130, 130)\n",
      "u  (100, 130, 130)\n",
      "u  (100, 130, 130)\n",
      "u  (100, 130, 130)\n",
      "u  (100, 130, 130)\n",
      "u  (100, 130, 130)\n",
      "u  (100, 130, 130)\n",
      "u  (100, 130, 130)\n",
      "u  (100, 130, 130)\n",
      "u  (100, 130, 130)\n",
      "u  (100, 130, 130)\n",
      "u  (100, 130, 130)\n",
      "u  (100, 130, 130)\n",
      "u  (100, 130, 130)\n",
      "u  (100, 130, 130)\n",
      "u  (100, 130, 130)\n",
      "u  (100, 130, 130)\n",
      "u  (100, 130, 130)\n",
      "u  (100, 130, 130)\n",
      "u  (100, 130, 130)\n",
      "u  (100, 130, 130)\n",
      "u  (100, 130, 130)\n",
      "u  (100, 130, 130)\n",
      "u  (100, 130, 130)\n",
      "u  (100, 130, 130)\n",
      "u  (100, 130, 130)\n",
      "u  (100, 130, 130)\n",
      "u  (100, 130, 130)\n",
      "u  (100, 130, 130)\n",
      "u  (100, 130, 130)\n",
      "u  (100, 130, 130)\n",
      "u  (100, 130, 130)\n",
      "u  (100, 130, 130)\n",
      "u  (100, 130, 130)\n",
      "u  (100, 130, 130)\n",
      "u  (100, 130, 130)\n",
      "u  (100, 130, 130)\n",
      "u  (100, 130, 130)\n",
      "u  (100, 130, 130)\n",
      "u  (100, 130, 130)\n",
      "u  (100, 130, 130)\n",
      "u  (100, 130, 130)\n",
      "u  (100, 130, 130)\n",
      "u  (100, 130, 130)\n",
      "u  (100, 130, 130)\n",
      "u  (100, 130, 130)\n",
      "u  (100, 130, 130)\n",
      "u  (100, 130, 130)\n",
      "u  (100, 130, 130)\n",
      "u  (100, 130, 130)\n",
      "u  (100, 130, 130)\n",
      "u  (100, 130, 130)\n",
      "u  (100, 130, 130)\n",
      "u  (100, 130, 130)\n",
      "u  (100, 130, 130)\n",
      "u  (100, 130, 130)\n",
      "u  (100, 130, 130)\n",
      "u  (100, 130, 130)\n",
      "u  (100, 130, 130)\n",
      "u  (100, 130, 130)\n",
      "u  (100, 130, 130)\n",
      "u  (100, 130, 130)\n",
      "u  (100, 130, 130)\n",
      "u  (100, 130, 130)\n",
      "u  (100, 130, 130)\n",
      "u  (100, 130, 130)\n",
      "u  (100, 130, 130)\n",
      "u  (100, 130, 130)\n",
      "u  (100, 130, 130)\n",
      "u  (100, 130, 130)\n",
      "u  (100, 130, 130)\n",
      "u  (100, 130, 130)\n",
      "u  (100, 130, 130)\n",
      "u  (100, 130, 130)\n",
      "u  (100, 130, 130)\n",
      "u  (100, 130, 130)\n",
      "u  (100, 130, 130)\n",
      "u  (100, 130, 130)\n",
      "u  (100, 130, 130)\n",
      "u  (100, 130, 130)\n",
      "u  (100, 130, 130)\n",
      "u  (100, 130, 130)\n",
      "u  (100, 130, 130)\n",
      "u  (100, 130, 130)\n",
      "u  (100, 130, 130)\n",
      "u  (100, 130, 130)\n",
      "u  (100, 130, 130)\n",
      "u  (100, 130, 130)\n",
      "u  (100, 130, 130)\n",
      "u  (100, 130, 130)\n",
      "u  (100, 130, 130)\n",
      "u  (100, 130, 130)\n",
      "u  (100, 130, 130)\n"
     ]
    }
   ],
   "source": [
    "df = compute_classification_metrics(df)"
   ]
  },
  {
   "cell_type": "code",
   "execution_count": 5,
   "metadata": {},
   "outputs": [],
   "source": [
    "df_class = classify_trajectories(df)"
   ]
  },
  {
   "cell_type": "code",
   "execution_count": 6,
   "metadata": {},
   "outputs": [
    {
     "name": "stdout",
     "output_type": "stream",
     "text": [
      "dss category\n",
      "INT    15\n",
      "Name: count, dtype: int64\n",
      "osc category\n",
      "OSC    76\n",
      "Name: count, dtype: int64\n",
      "ss category\n",
      "SS     51\n",
      "DSS     8\n",
      "Name: count, dtype: int64\n"
     ]
    }
   ],
   "source": [
    "for label, df1 in df_class.groupby(\"label\"):\n",
    "    print(label, df1.value_counts(\"category\"))"
   ]
  },
  {
   "cell_type": "code",
   "execution_count": 14,
   "metadata": {},
   "outputs": [
    {
     "data": {
      "text/plain": [
       "31    0.014609\n",
       "32    0.006997\n",
       "33    0.006044\n",
       "34    0.005582\n",
       "35    0.008585\n",
       "36    0.005393\n",
       "37    0.004285\n",
       "38    0.004032\n",
       "39    0.004988\n",
       "40    0.008644\n",
       "41    0.007229\n",
       "42    0.005527\n",
       "43    0.005997\n",
       "44    0.012918\n",
       "45    0.008644\n",
       "46    0.007567\n",
       "47    0.008067\n",
       "48    0.011979\n",
       "49    0.008468\n",
       "50    0.006590\n",
       "51    0.010414\n",
       "52    0.006131\n",
       "53    0.008961\n",
       "54    0.005905\n",
       "55    0.006257\n",
       "56    0.008411\n",
       "57    0.004457\n",
       "58    0.006424\n",
       "59    0.006844\n",
       "60    0.006257\n",
       "61    0.005920\n",
       "62    0.012950\n",
       "63    0.004781\n",
       "64    0.004231\n",
       "65    0.007074\n",
       "66    0.008368\n",
       "67    0.006404\n",
       "68    0.010752\n",
       "69    0.011987\n",
       "70    0.009054\n",
       "71    0.005938\n",
       "72    0.003727\n",
       "73    0.004094\n",
       "74    0.005440\n",
       "75    0.008961\n",
       "76    0.004918\n",
       "77    0.010058\n",
       "78    0.004137\n",
       "79    0.008103\n",
       "80    0.003942\n",
       "81    0.004517\n",
       "82    0.006776\n",
       "83    0.005908\n",
       "84    0.009537\n",
       "85    0.005494\n",
       "86    0.007074\n",
       "87    0.006710\n",
       "88    0.004242\n",
       "89    0.008121\n",
       "Name: mean_deviation, dtype: float64"
      ]
     },
     "execution_count": 14,
     "metadata": {},
     "output_type": "execute_result"
    }
   ],
   "source": [
    "df1 = df_class[(df_class[\"category\"] == \"DSS\") | (df_class[\"category\"] == \"SS\")]\n",
    "df1[\"mean_deviation\"]"
   ]
  },
  {
   "cell_type": "code",
   "execution_count": null,
   "metadata": {},
   "outputs": [],
   "source": []
  }
 ],
 "metadata": {
  "kernelspec": {
   "display_name": "Python 3",
   "language": "python",
   "name": "python3"
  },
  "language_info": {
   "codemirror_mode": {
    "name": "ipython",
    "version": 3
   },
   "file_extension": ".py",
   "mimetype": "text/x-python",
   "name": "python",
   "nbconvert_exporter": "python",
   "pygments_lexer": "ipython3",
   "version": "3.11.6"
  }
 },
 "nbformat": 4,
 "nbformat_minor": 2
}
