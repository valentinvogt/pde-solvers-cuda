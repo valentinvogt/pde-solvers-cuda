{
 "cells": [
  {
   "cell_type": "code",
   "execution_count": 2,
   "metadata": {},
   "outputs": [],
   "source": [
    "import netCDF4 as nc\n",
    "import numpy as np\n",
    "import matplotlib.pyplot as plt\n",
    "import matplotlib.animation as animation\n",
    "from mpl_toolkits.axes_grid1 import ImageGrid\n",
    "from matplotlib.animation import FuncAnimation\n",
    "\n",
    "import os\n",
    "import glob\n",
    "import pandas as pd\n",
    "import json\n",
    "from dotenv import load_dotenv\n",
    "from functools import partial\n",
    "\n",
    "from utils.db_tools import get_db, metrics_grid, plot_grid, get_data, filter_df\n",
    "from classify import classify_trajectories"
   ]
  },
  {
   "cell_type": "code",
   "execution_count": 3,
   "metadata": {},
   "outputs": [],
   "source": [
    "model = \"bruss\"\n",
    "run_id = \"ball_big\"\n",
    "load_dotenv()\n",
    "data_dir = os.getenv(\"DATA_DIR\")\n",
    "output_dir = os.getenv(\"OUT_DIR\")\n",
    "output_dir = os.path.join(output_dir, model, run_id)\n",
    "os.makedirs(output_dir, exist_ok=True)\n",
    "df = pd.read_csv(os.path.join(output_dir, \"classification_metrics_02.csv\"))\n",
    "df_class = classify_trajectories(\n",
    "    df\n",
    ")"
   ]
  },
  {
   "cell_type": "code",
   "execution_count": 4,
   "metadata": {},
   "outputs": [
    {
     "data": {
      "text/plain": [
       "category\n",
       "SS     3007\n",
       "OSC    2128\n",
       "INT    1676\n",
       "DSS     387\n",
       "Name: count, dtype: int64"
      ]
     },
     "execution_count": 4,
     "metadata": {},
     "output_type": "execute_result"
    }
   ],
   "source": [
    "df_class.category.value_counts()"
   ]
  },
  {
   "cell_type": "code",
   "execution_count": 5,
   "metadata": {},
   "outputs": [
    {
     "name": "stdout",
     "output_type": "stream",
     "text": [
      "Distributions for A:\n",
      "\n",
      "Distributions for B_mult:\n",
      "\n",
      "Distributions for Du:\n",
      "\n",
      "Distributions for D_mult:\n",
      "\n"
     ]
    }
   ],
   "source": [
    "from collections import defaultdict\n",
    "\n",
    "Du_values = [1.0, 2.0, 3.0]\n",
    "D_mult_values = [4, 11, 18]\n",
    "A_values = [0.1, 0.5, 1, 2, 5, 10]\n",
    "B_mult_values = [1.25, 1.75, 2, 2.5, 3, 4, 5]\n",
    "\n",
    "# Initialize dictionaries to store distributions for each parameter\n",
    "category_distribution = {\n",
    "    \"A\": defaultdict(lambda: {\"steady_state\": 0, \"interesting_behavior\": 0, \"divergent_or_unknown\": 0}),\n",
    "    \"B_mult\": defaultdict(lambda: {\"steady_state\": 0, \"interesting_behavior\": 0, \"divergent_or_unknown\": 0}),\n",
    "    \"Du\": defaultdict(lambda: {\"steady_state\": 0, \"interesting_behavior\": 0, \"divergent_or_unknown\": 0}),\n",
    "    \"D_mult\": defaultdict(lambda: {\"steady_state\": 0, \"interesting_behavior\": 0, \"divergent_or_unknown\": 0}),\n",
    "}\n",
    "\n",
    "# Iterate over all parameter combinations\n",
    "for Du in Du_values:\n",
    "    for D_mult in D_mult_values:\n",
    "        Dv = Du * D_mult\n",
    "        df_filt = df[(df[\"Du\"] == Du) & (df[\"Dv\"] == Dv)]\n",
    "\n",
    "        # Update category distributions\n",
    "        for A in sorted(A_values):\n",
    "            for B_mult in B_mult_values:\n",
    "                B = A * B_mult\n",
    "                row = df_class[(df_class[\"A\"] == A) & (df_class[\"B\"] == B)]\n",
    "                if not row.empty:\n",
    "                    category = row[\"category\"].values[0]\n",
    "                    category_distribution[\"A\"][A][category] += 1\n",
    "                    category_distribution[\"B_mult\"][B_mult][category] += 1\n",
    "                    category_distribution[\"Du\"][Du][category] += 1\n",
    "                    category_distribution[\"D_mult\"][D_mult][category] += 1\n",
    "                    \n",
    "# Print distributions for each parameter\n",
    "def print_distributions(param_name, distribution):\n",
    "    print(f\"Distributions for {param_name}:\")\n",
    "    for param_value, counts in sorted(distribution.items()):\n",
    "        total = sum(counts.values())\n",
    "        print(f\"  {param_value}: {counts} (total={total})\")\n",
    "    print(\"\")\n",
    "\n",
    "print_distributions(\"A\", category_distribution[\"A\"])\n",
    "print_distributions(\"B_mult\", category_distribution[\"B_mult\"])\n",
    "print_distributions(\"Du\", category_distribution[\"Du\"])\n",
    "print_distributions(\"D_mult\", category_distribution[\"D_mult\"])\n"
   ]
  },
  {
   "cell_type": "code",
   "execution_count": null,
   "metadata": {},
   "outputs": [],
   "source": []
  }
 ],
 "metadata": {
  "kernelspec": {
   "display_name": "Python 3",
   "language": "python",
   "name": "python3"
  },
  "language_info": {
   "codemirror_mode": {
    "name": "ipython",
    "version": 3
   },
   "file_extension": ".py",
   "mimetype": "text/x-python",
   "name": "python",
   "nbconvert_exporter": "python",
   "pygments_lexer": "ipython3",
   "version": "3.11.6"
  },
  "orig_nbformat": 4
 },
 "nbformat": 4,
 "nbformat_minor": 2
}
