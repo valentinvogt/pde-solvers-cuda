{
 "cells": [
  {
   "cell_type": "code",
   "execution_count": 2,
   "metadata": {},
   "outputs": [],
   "source": [
    "import netCDF4 as nc\n",
    "import numpy as np\n",
    "import matplotlib.pyplot as plt\n",
    "import matplotlib.animation as animation\n",
    "import seaborn as sns\n",
    "from dotenv import load_dotenv\n",
    "from scipy.fft import fft, fftfreq\n",
    "\n",
    "import os\n",
    "import glob\n",
    "import pandas as pd\n",
    "import json\n",
    "\n",
    "from utils.db_tools import get_db, filter_df, make_animation, get_data, metrics_grid, plot_grid\n",
    "from classify import *"
   ]
  },
  {
   "cell_type": "code",
   "execution_count": 44,
   "metadata": {},
   "outputs": [
    {
     "data": {
      "text/plain": [
       "378"
      ]
     },
     "execution_count": 44,
     "metadata": {},
     "output_type": "execute_result"
    }
   ],
   "source": [
    "model = \"bruss\"\n",
    "run_id = \"abd_test\"\n",
    "load_dotenv()\n",
    "data_dir = os.getenv(\"DATA_DIR\")\n",
    "output_dir = os.getenv(\"OUT_DIR\")\n",
    "output_dir = os.path.join(output_dir, model, run_id)\n",
    "os.makedirs(output_dir, exist_ok=True)\n",
    "df0 = get_db(os.path.join(data_dir, model, run_id))\n",
    "len(df0)"
   ]
  },
  {
   "cell_type": "code",
   "execution_count": 45,
   "metadata": {},
   "outputs": [],
   "source": [
    "df = df0.copy()"
   ]
  },
  {
   "cell_type": "code",
   "execution_count": null,
   "metadata": {},
   "outputs": [],
   "source": [
    "df ="
   ]
  },
  {
   "cell_type": "code",
   "execution_count": 46,
   "metadata": {},
   "outputs": [
    {
     "name": "stdout",
     "output_type": "stream",
     "text": [
      "Du = 1, Dv = 4\n",
      "SS  SS  SS  SS  SS  SS  SS  \n",
      "SS  SS  SS  OSC ND  ND  ND  \n",
      "SS  SS  OSC ND  ND  ND  ND  \n",
      "SS  SS  DS  ND  ND  ND  DS  \n",
      "SS  SS  SS  OSC ND  ND  DS  \n",
      "SS  SS  SS  SS  SS  DS  DS  \n",
      "Du = 2, Dv = 8\n",
      "SS  SS  SS  SS  SS  SS  SS  \n",
      "SS  SS  SS  OSC ND  ND  ND  \n",
      "SS  SS  SS  ND  ND  ND  ND  \n",
      "SS  SS  DS  ND  ND  ND  ND  \n",
      "SS  SS  SS  OSC ND  ND  DS  \n",
      "SS  SS  SS  SS  SS  ND  DS  \n",
      "Du = 3, Dv = 12\n",
      "SS  SS  SS  SS  SS  SS  SS  \n",
      "SS  SS  SS  SS  ND  ND  ND  \n",
      "SS  SS  SS  ND  ND  ND  ND  \n",
      "SS  SS  DS  ND  ND  ND  ND  \n",
      "SS  SS  SS  ND  ND  ND  DS  \n",
      "SS  SS  SS  SS  SS  DS  DS  \n"
     ]
    }
   ],
   "source": [
    "for Du in [1, 2, 3]:\n",
    "    Dv = 4 * Du\n",
    "    print(f\"Du = {Du}, Dv = {Dv}\")\n",
    "    df_filt = filter_df(df, Du=Du, Dv=Dv)\n",
    "    df_filt = classify_trajectories(df_filt, 0.1, convergence_eps=0.01, deriv_eps=0.05)\n",
    "    for A in df_filt.A.unique():\n",
    "        df_A = filter_df(df_filt,A)\n",
    "        for B in df_A.B.unique():\n",
    "            print(f\"{filter_df(df_A,A,B).iloc[0]['category']:3}\", end=\" \")\n",
    "        print(\"\")"
   ]
  },
  {
   "cell_type": "code",
   "execution_count": 30,
   "metadata": {},
   "outputs": [
    {
     "name": "stdout",
     "output_type": "stream",
     "text": [
      "SS  SS  SS  SS  SS  SS  SS  \n",
      "SS  SS  SS  OSC ?   ?   ?   \n",
      "SS  SS  OSC ?   ?   ?   ?   \n",
      "SS  SS  DS  ?   ?   ?   DS  \n",
      "SS  SS  SS  OSC ?   ?   DS  \n",
      "SS  SS  SS  SS  SS  DS  DS  \n"
     ]
    }
   ],
   "source": [
    "for A in df.A.unique():\n",
    "    for B in filter_df(df,A).B.unique():\n",
    "        print(f\"{filter_df(df,A,B).iloc[0]['category']:3}\", end=\" \")\n",
    "    print(\"\")"
   ]
  },
  {
   "cell_type": "code",
   "execution_count": 23,
   "metadata": {},
   "outputs": [],
   "source": [
    "metrics_grid(df, 60, sigdigits=3, var1=\"A\", var2=\"B\", metric=\"dx\", filename=\"dx-Du_1-Dv_4.png\");"
   ]
  },
  {
   "cell_type": "code",
   "execution_count": 13,
   "metadata": {},
   "outputs": [
    {
     "name": "stderr",
     "output_type": "stream",
     "text": [
      "MovieWriter ffmpeg unavailable; using Pillow instead.\n"
     ]
    }
   ],
   "source": [
    "df2 = filter_df(df, 5, 12.5, 1, 4)\n",
    "make_animation(get_data(df2), \"5-12-osc\", \"\")"
   ]
  },
  {
   "cell_type": "code",
   "execution_count": null,
   "metadata": {},
   "outputs": [],
   "source": []
  }
 ],
 "metadata": {
  "kernelspec": {
   "display_name": "Python 3",
   "language": "python",
   "name": "python3"
  },
  "language_info": {
   "codemirror_mode": {
    "name": "ipython",
    "version": 3
   },
   "file_extension": ".py",
   "mimetype": "text/x-python",
   "name": "python",
   "nbconvert_exporter": "python",
   "pygments_lexer": "ipython3",
   "version": "3.11.6"
  },
  "orig_nbformat": 4
 },
 "nbformat": 4,
 "nbformat_minor": 2
}
