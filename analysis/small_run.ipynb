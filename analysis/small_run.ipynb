{
 "cells": [
  {
   "cell_type": "code",
   "execution_count": 1,
   "metadata": {},
   "outputs": [],
   "source": [
    "import netCDF4 as nc\n",
    "import numpy as np\n",
    "import matplotlib.pyplot as plt\n",
    "import matplotlib.animation as animation\n",
    "import seaborn as sns\n",
    "from dotenv import load_dotenv\n",
    "from scipy.spatial import cKDTree\n",
    "\n",
    "import os\n",
    "import glob\n",
    "import pandas as pd\n",
    "import json\n",
    "\n",
    "from utils.db_tools import get_db, filter_df, make_animation, get_data, metrics_grid, plot_grid"
   ]
  },
  {
   "cell_type": "code",
   "execution_count": 27,
   "metadata": {},
   "outputs": [],
   "source": [
    "import numpy as np\n",
    "from scipy.fft import fft, fftfreq\n",
    "\n",
    "\n",
    "def classify_brusselator_trajectory(\n",
    "    data,\n",
    "    u_ss,\n",
    "    v_ss,\n",
    "    blowup_threshold=1e6,\n",
    "    convergence_eps=1e-3,\n",
    "    deriv_eps=1e-3,\n",
    "    osc_threshold=0.1,\n",
    "):\n",
    "    \"\"\"\n",
    "    Classify a Brusselator trajectory into one of five categories.\n",
    "\n",
    "    Args:\n",
    "        data: Trajectory array of shape [1, time, x, y] (u and v interleaved).\n",
    "        u_ss, v_ss: Steady-state values (constant across space).\n",
    "        blowup_threshold: Threshold for detecting blowup.\n",
    "        convergence_eps: Tolerance for convergence to SS.\n",
    "        deriv_eps: Tolerance for near-zero time derivatives.\n",
    "        osc_threshold: Minimum relative spectral power for oscillations.\n",
    "\n",
    "    Returns:\n",
    "        String indicating the classification result.\n",
    "    \"\"\"\n",
    "    # Extract u and v (remove dummy dimension)\n",
    "    u = data[0, :, :, 0::2]  # shape [time, x, y//2]\n",
    "    v = data[0, :, :, 1::2]\n",
    "\n",
    "    # Check blowup\n",
    "    if np.max(u) > blowup_threshold or np.max(v) > blowup_threshold:\n",
    "        return \"BU\"\n",
    "\n",
    "    # Deviation from SS over time (L2 norm)\n",
    "    time_steps = u.shape[0]\n",
    "    dev_u = np.linalg.norm(u - u_ss, axis=(1, 2))  # [time]\n",
    "    dev_v = np.linalg.norm(v - v_ss, axis=(1, 2))\n",
    "    total_dev = dev_u + dev_v  # [time]\n",
    "\n",
    "    # Check convergence to SS\n",
    "    last_dev = total_dev[-int(0.1 * time_steps) :]  # Last 10% of steps\n",
    "    # print(np.mean(last_dev))\n",
    "    if np.mean(last_dev) < convergence_eps and np.all(np.diff(last_dev) <= 0):\n",
    "        return \"SS\"\n",
    "\n",
    "    # Time derivatives (finite difference)\n",
    "    du = np.diff(u, axis=0)  # shape [time-1, x, y//2]\n",
    "    dv = np.diff(v, axis=0)\n",
    "    deriv_norm = np.linalg.norm(du, axis=(1, 2)) + np.linalg.norm(dv, axis=(1, 2))\n",
    "\n",
    "    # Check convergence to different state\n",
    "    last_deriv = deriv_norm[-int(0.1 * len(deriv_norm)) :]\n",
    "    print(np.mean(last_deriv))\n",
    "    if np.mean(last_deriv) < deriv_eps:\n",
    "        return \"DS\"\n",
    "\n",
    "    # Oscillations: FFT of spatially averaged u(t)\n",
    "    u_avg = np.mean(u, axis=(1, 2))  # [time]\n",
    "    v_avg = np.mean(v, axis=(1, 2))\n",
    "\n",
    "    # Compute FFT power spectrum for u\n",
    "    n = len(u_avg)\n",
    "    freq = fftfreq(n)\n",
    "    fft_u = np.abs(fft(u_avg - u_ss)) / n\n",
    "    fft_u[0] = 0  # Ignore DC component (steady state)\n",
    "\n",
    "    # Dominant frequency check\n",
    "    dominant_power = np.max(fft_u)\n",
    "    total_power = np.sum(fft_u)\n",
    "    if dominant_power > osc_threshold * total_power:\n",
    "        return \"OSC\"\n",
    "\n",
    "    # If none of the above\n",
    "    return \"?\"\n"
   ]
  },
  {
   "cell_type": "code",
   "execution_count": 28,
   "metadata": {},
   "outputs": [],
   "source": [
    "def classify_trajectories(\n",
    "    df,\n",
    "    start_frame,\n",
    "    blowup_threshold=1e6,\n",
    "    convergence_eps=1e-3,\n",
    "    deriv_eps=1e-3,\n",
    "    osc_threshold=0.1,\n",
    ") -> pd.DataFrame:\n",
    "    \"\"\"\n",
    "    Classify runs based on behavior: inserts column 'category' into DataFrame.\n",
    "    Possible categories: 'steady_state', 'interesting', 'divergent_or_unknown'.\n",
    "    Args:\n",
    "        df: DataFrame containing run metadata.\n",
    "        steady_threshold: Threshold for ||du/dt|| to classify as steady.\n",
    "        osc_threshold: Threshold for oscillatory behavior.\n",
    "        dev_threshold: Threshold for deviation from the steady state.\n",
    "\n",
    "    Returns:\n",
    "        Updated DataFrame with classification labels.\n",
    "    \"\"\"\n",
    "\n",
    "    if len(df) == 0:\n",
    "        return None\n",
    "    df = df.sort_values(by=[\"A\", \"B\"])\n",
    "    categories = []\n",
    "    for i, row in df.iterrows():\n",
    "        Nt = row[\"n_snapshots\"]\n",
    "        assert start_frame < Nt, \"start_frame must be less than Nt\"\n",
    "\n",
    "        ds = nc.Dataset(row[\"filename\"])\n",
    "        data = ds.variables[\"data\"][:]  # Assume shape [time, spatial, ...]\n",
    "        A = row.A\n",
    "        B = row.B\n",
    "        categories.append(classify_brusselator_trajectory(data, A, B/A, blowup_threshold, convergence_eps, deriv_eps, osc_threshold))\n",
    "    df[\"category\"] = categories\n",
    "    return df"
   ]
  },
  {
   "cell_type": "code",
   "execution_count": 29,
   "metadata": {},
   "outputs": [
    {
     "data": {
      "text/plain": [
       "378"
      ]
     },
     "execution_count": 29,
     "metadata": {},
     "output_type": "execute_result"
    }
   ],
   "source": [
    "model = \"bruss\"\n",
    "run_id = \"abd_test\"\n",
    "load_dotenv()\n",
    "data_dir = os.getenv(\"DATA_DIR\")\n",
    "output_dir = os.getenv(\"OUT_DIR\")\n",
    "output_dir = os.path.join(output_dir, model, run_id)\n",
    "os.makedirs(output_dir, exist_ok=True)\n",
    "df0 = get_db(os.path.join(data_dir, model, run_id))\n",
    "len(df0)"
   ]
  },
  {
   "cell_type": "code",
   "execution_count": 5,
   "metadata": {},
   "outputs": [],
   "source": [
    "df = df0.copy()"
   ]
  },
  {
   "cell_type": "code",
   "execution_count": 33,
   "metadata": {},
   "outputs": [
    {
     "name": "stdout",
     "output_type": "stream",
     "text": [
      "0.0\n"
     ]
    }
   ],
   "source": [
    "# np.linalg.norm(get_data()[0,-1,:,0::2] - 0.1) / (128**2)\n",
    "df1 = filter_df(df, 5, 25)\n",
    "df1 = classify_trajectories(df1, 0, convergence_eps=128/100)"
   ]
  },
  {
   "cell_type": "code",
   "execution_count": 17,
   "metadata": {},
   "outputs": [],
   "source": [
    "df = filter_df(df, Du=1, Dv=4)\n",
    "df = classify_trajectories(df, 0, convergence_eps=128/100);"
   ]
  },
  {
   "cell_type": "code",
   "execution_count": 25,
   "metadata": {},
   "outputs": [
    {
     "name": "stdout",
     "output_type": "stream",
     "text": [
      "SS  SS  SS  SS  SS  SS  SS  \n",
      "SS  SS  SS  OSC ?   ?   ?   \n",
      "SS  SS  OSC ?   ?   ?   ?   \n",
      "SS  SS  ?   ?   ?   ?   ?   \n",
      "SS  SS  SS  OSC ?   ?   DS  \n",
      "SS  SS  SS  SS  SS  DS  ?   \n"
     ]
    }
   ],
   "source": [
    "for A in df.A.unique():\n",
    "    for B in filter_df(df,A).B.unique():\n",
    "        print(f\"{filter_df(df,A,B).iloc[0]['category']:3}\", end=\" \")\n",
    "    print(\"\")"
   ]
  },
  {
   "cell_type": "code",
   "execution_count": 34,
   "metadata": {},
   "outputs": [
    {
     "data": {
      "text/plain": [
       "array([[<Axes: title={'center': 'A=0.100\\nB = 0.125'}>,\n",
       "        <Axes: title={'center': 'A=0.100\\nB = 0.175'}>,\n",
       "        <Axes: title={'center': 'A=0.100\\nB = 0.200'}>,\n",
       "        <Axes: title={'center': 'A=0.100\\nB = 0.250'}>,\n",
       "        <Axes: title={'center': 'A=0.100\\nB = 0.300'}>,\n",
       "        <Axes: title={'center': 'A=0.100\\nB = 0.400'}>,\n",
       "        <Axes: title={'center': 'A=0.100\\nB = 0.500'}>],\n",
       "       [<Axes: title={'center': 'A=0.500\\nB = 0.625'}>,\n",
       "        <Axes: title={'center': 'A=0.500\\nB = 0.875'}>,\n",
       "        <Axes: title={'center': 'A=0.500\\nB = 1.000'}>,\n",
       "        <Axes: title={'center': 'A=0.500\\nB = 1.250'}>,\n",
       "        <Axes: title={'center': 'A=0.500\\nB = 1.500'}>,\n",
       "        <Axes: title={'center': 'A=0.500\\nB = 2.000'}>,\n",
       "        <Axes: title={'center': 'A=0.500\\nB = 2.500'}>],\n",
       "       [<Axes: title={'center': 'A=1.000\\nB = 1.250'}>,\n",
       "        <Axes: title={'center': 'A=1.000\\nB = 1.750'}>,\n",
       "        <Axes: title={'center': 'A=1.000\\nB = 2.000'}>,\n",
       "        <Axes: title={'center': 'A=1.000\\nB = 2.500'}>,\n",
       "        <Axes: title={'center': 'A=1.000\\nB = 3.000'}>,\n",
       "        <Axes: title={'center': 'A=1.000\\nB = 4.000'}>,\n",
       "        <Axes: title={'center': 'A=1.000\\nB = 5.000'}>],\n",
       "       [<Axes: title={'center': 'A=2.000\\nB = 2.500'}>,\n",
       "        <Axes: title={'center': 'A=2.000\\nB = 3.500'}>,\n",
       "        <Axes: title={'center': 'A=2.000\\nB = 4.000'}>,\n",
       "        <Axes: title={'center': 'A=2.000\\nB = 5.000'}>,\n",
       "        <Axes: title={'center': 'A=2.000\\nB = 6.000'}>,\n",
       "        <Axes: title={'center': 'A=2.000\\nB = 8.000'}>,\n",
       "        <Axes: title={'center': 'A=2.000\\nB = 10.000'}>],\n",
       "       [<Axes: title={'center': 'A=5.000\\nB = 6.250'}>,\n",
       "        <Axes: title={'center': 'A=5.000\\nB = 8.750'}>,\n",
       "        <Axes: title={'center': 'A=5.000\\nB = 10.000'}>,\n",
       "        <Axes: title={'center': 'A=5.000\\nB = 12.500'}>,\n",
       "        <Axes: title={'center': 'A=5.000\\nB = 15.000'}>,\n",
       "        <Axes: title={'center': 'A=5.000\\nB = 20.000'}>,\n",
       "        <Axes: title={'center': 'A=5.000\\nB = 25.000'}>],\n",
       "       [<Axes: title={'center': 'A=10.000\\nB = 12.500'}>,\n",
       "        <Axes: title={'center': 'A=10.000\\nB = 17.500'}>,\n",
       "        <Axes: title={'center': 'A=10.000\\nB = 20.000'}>,\n",
       "        <Axes: title={'center': 'A=10.000\\nB = 25.000'}>,\n",
       "        <Axes: title={'center': 'A=10.000\\nB = 30.000'}>,\n",
       "        <Axes: title={'center': 'A=10.000\\nB = 40.000'}>,\n",
       "        <Axes: title={'center': 'A=10.000\\nB = 50.000'}>]], dtype=object)"
      ]
     },
     "execution_count": 34,
     "metadata": {},
     "output_type": "execute_result"
    }
   ],
   "source": [
    "metrics_grid(df, 10, var1=\"A\", var2=\"B\", metric=\"dt\", filename=\"dt-Du_1-Dv_4.png\")"
   ]
  },
  {
   "cell_type": "code",
   "execution_count": null,
   "metadata": {},
   "outputs": [],
   "source": []
  }
 ],
 "metadata": {
  "kernelspec": {
   "display_name": "Python 3",
   "language": "python",
   "name": "python3"
  },
  "language_info": {
   "codemirror_mode": {
    "name": "ipython",
    "version": 3
   },
   "file_extension": ".py",
   "mimetype": "text/x-python",
   "name": "python",
   "nbconvert_exporter": "python",
   "pygments_lexer": "ipython3",
   "version": "3.11.7"
  },
  "orig_nbformat": 4
 },
 "nbformat": 4,
 "nbformat_minor": 2
}
